{
 "cells": [
  {
   "cell_type": "markdown",
   "id": "a26f57c7",
   "metadata": {},
   "source": [
    "### Practice question-1: Write a Python program that takes three angles as input from the user and determines whether these angles can form a valid triangle.\n",
    "In geometry, a triangle is valid if the sum of its angles is exactly 180 degrees. Your program should prompt the user to enter three angles, then check if the sum of these angles equals 180 degrees. If the sum is 180 degrees, the program should output a message indicating that the angles can form a triangle. Otherwise, it should inform the user that the angles cannot form a triangle."
   ]
  },
  {
   "cell_type": "code",
   "execution_count": null,
   "id": "86e23946",
   "metadata": {},
   "outputs": [],
   "source": [
    "# write code here\n",
    "angle_a = int(input(\"angle a: \"))\n",
    "angle_b = int(input(\"angle b: \"))\n",
    "angle_c = int(input(\"angle c: \"))\n",
    "\n",
    "if angle_a + angle_b + angle_c == 180:\n",
    "    print(\"The angles can form a triangle.\")\n",
    "else:\n",
    "    print(\"The angles cannot make a valid triangle.\")"
   ]
  },
  {
   "cell_type": "markdown",
   "id": "7338c55e",
   "metadata": {},
   "source": [
    "### Practice question-2: Manipulating lists in Python\n",
    "Imagine you are managing a library's bookshelf with five books initially. The titles of these books are stored in a list: [\"Harry Potter\", \"To Kill a Mockingbird\", \"1984\", \"Pride and Prejudice\", \"The Great Gatsby\"].\n",
    "Your task is to perform the following operations on this list:\n",
    "- **Add a New Book**: A new book, \"The Catcher in the Rye\", has been donated to the library. Add this book to the end of the list.\n",
    "- **Insert a Book**: The librarian wants to place \"The Lord of the Rings\" at the second position on the shelf. Insert this book at the specified position.\n",
    "- **Remove a Book**: The library is removing \"1984\" from the collection. Remove the first occurrence of this book from the list.\n",
    "- **Organize the Shelf**: Sort the books in alphabetical order to make them easier to find.\n",
    "- **Reverse the Order**: The librarian wants to display the books in reverse order for a special event. Reverse the list of books."
   ]
  },
  {
   "cell_type": "code",
   "execution_count": null,
   "id": "7c5fa356",
   "metadata": {},
   "outputs": [],
   "source": [
    "books=[\"Harry Potter\", \"To Kill a Mockingbird\", \"1984\", \"Pride and Prejudice\", \"The Great Gatsby\"]\n",
    "\n",
    "# write your code here\n",
    "books.append(\"The Catcher in the Rye\")\n",
    "books.insert(1, \"The Lord of the Rings\")\n",
    "books.remove(\"1984\")\n",
    "books.sort()\n",
    "books.reverse()\n"
   ]
  },
  {
   "cell_type": "markdown",
   "id": "f591a973",
   "metadata": {},
   "source": [
    "### Practice question-3: Use conditional statements\n",
    "Imagine you are developing an application to determine whether a student is eligible for admission to a university based on their age and academic performance.\n",
    "Your task is to write a program that:\n",
    "1. **Age Eligibility**: Ask the user for their age. Check if the student is at least 17 years old to be eligible for admission. Print a message indicating whether they meet the age requirement or not.\n",
    "2. **Academic Performance**: Ask the user for their average grade (A, B, C, D, F). Based on the grade, print a corresponding message:\n",
    "    - **A**: \"Excellent, you are eligible for a full scholarship.\"\n",
    "    - **B**: \"Good, you are eligible for a partial scholarship.\"\n",
    "    - **C**: \"Fair, you are eligible for admission but not for a scholarship.\"\n",
    "    - **D or F**: \"You need to improve your grades to be eligible for admission.\""
   ]
  },
  {
   "cell_type": "code",
   "execution_count": null,
   "id": "98a4568e",
   "metadata": {},
   "outputs": [],
   "source": [
    "# write code here...\n",
    "age = int(input(\"Enter your age:\"))\n",
    "if age >=17:\n",
    "    print(\"You are eligible for admission\")\n",
    "else:\n",
    "    print(\"You are not eligible for admission\")\n",
    "    \n",
    "grade = int(input(\"Enter your grade(A, B, C, D, F): \"))\n",
    "if grade == \"A\":\n",
    "    print(\"Excellent, you are eligible for full scholarship\")\n",
    "elif grade == \"B\":\n",
    "    print(\"Good, you are eligible for partial scholarship\")\n",
    "elif grade == \"C\":\n",
    "    print(\"Fair, you are eligible for partial scholarship\")\n",
    "elif grade == \"D\" or grade == \"F\":\n",
    "    print(\"You need to improve your grades to be eligible for admission\")\n",
    "else:\n",
    "    print(\"Enter a valid grade(A, B, C, D, F\")"
   ]
  },
  {
   "cell_type": "markdown",
   "id": "9ce696a5",
   "metadata": {},
   "source": [
    "### Practice question-4: Reverse items in a list\n",
    "You are given a list of random words:\n",
    "`words = [\"apple\", \"banana\", \"cherry\", \"date\", \"elderberry\"]`\n",
    "Write a Python program using a loop to reverse each word.\n",
    "\n",
    "**Expected Output**:\n",
    "```\n",
    "elppa\n",
    "ananab\n",
    "etad\n",
    "yrrebredle\n",
    "```"
   ]
  },
  {
   "cell_type": "code",
   "execution_count": null,
   "id": "d448f269",
   "metadata": {},
   "outputs": [],
   "source": [
    "words = [\"apple\", \"banana\", \"cherry\", \"date\", \"elderberry\"]\n",
    "# write code here..\n",
    "\n",
    "for word in words:\n",
    "    print(word[::-1])\n",
    "\n"
   ]
  },
  {
   "cell_type": "markdown",
   "id": "210e428a",
   "metadata": {},
   "source": [
    "### Practice question-5: Area of a circle\n",
    "Write a function that accepts a radius, calculates the area of a circle, and returns it."
   ]
  },
  {
   "cell_type": "code",
   "execution_count": null,
   "id": "9c5c74da",
   "metadata": {},
   "outputs": [],
   "source": [
    "# write code here....\n",
    "radius = float(input(\"Enter the radius of the circle:\"))\n",
    "\n",
    "area_of_circle = radius ** 2 * 3.14\n",
    "print(area_of_circle)\n",
    "\n"
   ]
  },
  {
   "cell_type": "markdown",
   "id": "90fac759",
   "metadata": {},
   "source": [
    "### Practice question-6: Write a program that takes a number n as input from the user and prints whether the given number is a prime number or not."
   ]
  },
  {
   "cell_type": "code",
   "execution_count": null,
   "id": "74270952",
   "metadata": {},
   "outputs": [],
   "source": [
    "# write code here...\n"
   ]
  },
  {
   "cell_type": "markdown",
   "id": "2c2e414a",
   "metadata": {},
   "source": [
    "### Practice question-7: Write a Python program to generate and display the Fibonacci series up to 10 terms.\n",
    "The Fibonacci sequence is a series of numbers where each number is the sum of the two preceding ones, usually starting with 0 and 1. This sequence is named after the Italian mathematician Leonardo Fibonacci, who introduced it in the 13th century as a solution to a problem involving the growth of a population of rabbits."
   ]
  },
  {
   "cell_type": "code",
   "execution_count": null,
   "id": "5c604266",
   "metadata": {},
   "outputs": [],
   "source": [
    "# write code here...\n"
   ]
  },
  {
   "cell_type": "markdown",
   "id": "1e2f7a79",
   "metadata": {},
   "source": [
    "### Practice question-8: Reverse a given integer number.\n",
    "\n",
    "Example:\n",
    "\n",
    "`Input:`\n",
    "\n",
    "```bash\n",
    "76542\n",
    "```\n",
    "\n",
    "`Output:`\n",
    "\n",
    "```bash\n",
    "24567\n",
    "```"
   ]
  },
  {
   "cell_type": "code",
   "execution_count": null,
   "id": "fc597eb5",
   "metadata": {},
   "outputs": [],
   "source": [
    "# write code here...\n"
   ]
  },
  {
   "cell_type": "markdown",
   "id": "efde9f8c",
   "metadata": {},
   "source": [
    "### Practice question-9: Update number of items available\n",
    "\n",
    "Suppose you are given a list of candy and another list of same size representing no of items of respective candy.\n",
    "\n",
    "i.e -  \n",
    "```\n",
    "candy_list = ['Jelly Belly','Kit Kat','Double Bubble','Milky Way','Three Musketeers']\n",
    "no_of_items = [10,20,34,74,32]\n",
    "```\n",
    "\n",
    "Write a program to show no. of items of each candy type.\n",
    "\n",
    "`Output:`\n",
    "\n",
    "```\n",
    "Jelly Belly-10\n",
    "Kit Kat-20\n",
    "Double Bubble-34\n",
    "Milky Way-74\n",
    "Three Musketeers-32\n",
    "\n",
    "```"
   ]
  },
  {
   "cell_type": "code",
   "execution_count": null,
   "id": "05211bbd",
   "metadata": {},
   "outputs": [],
   "source": [
    "candy_list = ['Jelly Belly','Kit Kat','Double Bubble','Milky Way','Three Musketeers']\n",
    "no_of_items = [10,20,34,74,32]\n",
    "\n",
    "# write code here...\n"
   ]
  },
  {
   "cell_type": "markdown",
   "id": "c8919afe",
   "metadata": {},
   "source": [
    "### Practice question-10: You are given a list of integers. You are asked to make a list by running through elements of the list by adding all elements greater and itself.\n",
    "\n",
    "i.e. Say given list is `[2,4,6,10,1]`\n",
    "resultant list will be `[22,20,10,23]`.\n",
    "\n",
    "For 1st element `2` ->> these are greater `(4+6+10)` values and `2` itself so on adding becomes `22`.\n",
    "\n",
    "For 2nd element `4` ->> greater elements are `(6, 10)` and `4` itself, so on adding `20`\n",
    "\n",
    "like wise for all other elememts.\n",
    "\n",
    "`[2,4,6,10,1]`-->`[22,20,16,10,23]`"
   ]
  },
  {
   "cell_type": "code",
   "execution_count": null,
   "id": "6e266608",
   "metadata": {},
   "outputs": [],
   "source": [
    "l=[2,4,6,10,1]\n",
    "# write code here...\n"
   ]
  },
  {
   "cell_type": "markdown",
   "id": "cc978a03",
   "metadata": {},
   "source": [
    "### Practice question-11: Convert Character Matrix to single String using string comprehension.\n",
    "\n",
    "**Example 1:**\n",
    "\n",
    "Input:\n",
    "```bash\n",
    "[['s', 'm', 'a', 'r', 't'], ['d', 'a','t','a'], ['d', 'i', 's', 'c', 'o', 'v', 'e','r','y']]\n",
    "```\n",
    "\n",
    "Output:\n",
    "```bash\n",
    "smart data discovery\n",
    "```"
   ]
  },
  {
   "cell_type": "code",
   "execution_count": null,
   "id": "54b4c44e",
   "metadata": {},
   "outputs": [],
   "source": [
    "l=[['s', 'm', 'a', 'r', 't'], ['d', 'a','t','a'], ['d', 'i', 's', 'c', 'o', 'v', 'e','r','y']]\n",
    "\n",
    "# write code here...\n"
   ]
  },
  {
   "cell_type": "markdown",
   "id": "c26e20db",
   "metadata": {},
   "source": [
    "### Practice question-12: Write a program that can find the max number of each row of a matrix\n",
    "\n",
    "**Example:**\n",
    "\n",
    "Input:\n",
    "\n",
    "```bash\n",
    "[[1,2,3],[4,5,6],[7,8,9]]\n",
    "```\n",
    "\n",
    "Output:\n",
    "```bash\n",
    "[3,6,9]\n",
    "```"
   ]
  },
  {
   "cell_type": "code",
   "execution_count": null,
   "id": "db435aae",
   "metadata": {},
   "outputs": [],
   "source": [
    "l=[[1,2,3],[4,5,6],[7,8,9]]\n",
    "\n",
    "# write code here...\n"
   ]
  },
  {
   "cell_type": "markdown",
   "id": "b3ba31c7",
   "metadata": {},
   "source": [
    "### Practice-question-13: Write a list comprehension that can transpose a given matrix\n",
    "\n",
    "matrix = [<br>\n",
    "          [1,2,3],<br>\n",
    "          [4,5,6],<br>\n",
    "          [7,8,9]<br>\n",
    "         ]<br>\n",
    "         \n",
    "**Output**:\n",
    "\n",
    "[1, 4, 7]<br>\n",
    "[2, 5, 8]<br>\n",
    "[3, 6, 9]<br>"
   ]
  },
  {
   "cell_type": "code",
   "execution_count": null,
   "id": "e1d675c1",
   "metadata": {},
   "outputs": [],
   "source": [
    "matrix = [\n",
    "    [1,2,3],\n",
    "    [4,5,6],\n",
    "    [7,8,9]\n",
    "]\n",
    "\n",
    "# write code here..\n"
   ]
  },
  {
   "cell_type": "markdown",
   "id": "d3dde7c5",
   "metadata": {},
   "source": [
    "### Practice question-14: Write a list comprehension that can flatten a nested list\n",
    "\n",
    "**Input**<br>\n",
    "matrix = [<br>\n",
    "  [1,2,3],<br>\n",
    "          [4,5,6],<br>\n",
    "          [7,8,9]<br>]<br>\n",
    "\n",
    "**Output**:<br>\n",
    "[1, 2, 3, 4, 5, 6, 7, 8, 9]"
   ]
  },
  {
   "cell_type": "code",
   "execution_count": null,
   "id": "b569b837",
   "metadata": {},
   "outputs": [],
   "source": [
    "matrix = [\n",
    "    [1,2,3],\n",
    "    [4,5,6],\n",
    "    [7,8,9]\n",
    "]\n",
    "\n",
    "# write code here...\n"
   ]
  },
  {
   "cell_type": "markdown",
   "id": "d825f082",
   "metadata": {},
   "source": [
    "### Practice question-15: Factorial of given number n using recursion.\n",
    "Write a recursive function to compute the factorial of a given number \n",
    "n.The factorial of a number\n",
    "n (denoted as n!) is the product of all positive integers from \n",
    "1 to n. The function should take an integer n as input and return n!.\n",
    "\n",
    "**Example**:\n",
    "\n",
    "Input: n = 5\n",
    "\n",
    "Output: 120\n",
    "\n",
    "Explanation:\n",
    "\n",
    "5!=5×4×3×2×1=120"
   ]
  },
  {
   "cell_type": "code",
   "execution_count": null,
   "id": "7a2fdc2f",
   "metadata": {},
   "outputs": [],
   "source": [
    "# write code here...\n"
   ]
  }
 ],
 "metadata": {
  "kernelspec": {
   "display_name": "Python 3",
   "language": "python",
   "name": "python3"
  },
  "language_info": {
   "codemirror_mode": {
    "name": "ipython",
    "version": 3
   },
   "file_extension": ".py",
   "mimetype": "text/x-python",
   "name": "python",
   "nbconvert_exporter": "python",
   "pygments_lexer": "ipython3",
   "version": "3.12.2"
  }
 },
 "nbformat": 4,
 "nbformat_minor": 5
}
